{
 "cells": [
  {
   "cell_type": "code",
   "execution_count": 618,
   "metadata": {},
   "outputs": [],
   "source": [
    "import pandas as pd\n",
    "import numpy as np\n",
    "import statsmodels.formula.api as smf\n",
    "import matplotlib.pylab as plt\n",
    "import seaborn as sbn\n",
    "%matplotlib inline\n",
    "from sklearn.decomposition import PCA\n",
    "from statsmodels.graphics.api import abline_plot\n",
    "from sklearn import preprocessing\n",
    "from sklearn import linear_model\n",
    "from sklearn.linear_model import Lasso,Ridge\n",
    "from sklearn import svm\n",
    "from sklearn.linear_model import LinearRegression\n"
   ]
  },
  {
   "cell_type": "markdown",
   "metadata": {},
   "source": [
    "### Question 1. Fit a polynomial model \n",
    "of degree $M=10$ to the data below. Perform Lasso regularization, fitting the model over data1_1, selecting the optimal value of the regularization parameter over the data1_2 (based on validation R2) and testing performance over the data1_3."
   ]
  },
  {
   "cell_type": "markdown",
   "metadata": {},
   "source": [
    "Important - standardize the data before training Lasso model and apply the same $\\mu$ and $\\sigma$ defined over data1_1 to data1_2 and data1_3 during validation/testing (as we are not supposed to learn anything, including normalization coefficients from validation and test data; all the parameters of the model are to be learned from training data exclusively).\n",
    "\n",
    "Visualize the final model against all the data from from training, validation and test samples on the same plot using different colors for points from different samples. For comparison also visualize the true model used to generate the data below - $y=x^4/100+x^3/20+x^2/3+2x$.\n",
    "\n",
    "Output the coefficients of the model."
   ]
  },
  {
   "cell_type": "markdown",
   "metadata": {},
   "source": [
    "### For the convience of standardize, I modified the original data, keep the data1 as the raw data1 instead of data1=data1.loc[0:39]."
   ]
  },
  {
   "cell_type": "code",
   "execution_count": 443,
   "metadata": {},
   "outputs": [
    {
     "data": {
      "text/html": [
       "<div>\n",
       "<style scoped>\n",
       "    .dataframe tbody tr th:only-of-type {\n",
       "        vertical-align: middle;\n",
       "    }\n",
       "\n",
       "    .dataframe tbody tr th {\n",
       "        vertical-align: top;\n",
       "    }\n",
       "\n",
       "    .dataframe thead th {\n",
       "        text-align: right;\n",
       "    }\n",
       "</style>\n",
       "<table border=\"1\" class=\"dataframe\">\n",
       "  <thead>\n",
       "    <tr style=\"text-align: right;\">\n",
       "      <th></th>\n",
       "      <th>x</th>\n",
       "      <th>y</th>\n",
       "    </tr>\n",
       "  </thead>\n",
       "  <tbody>\n",
       "    <tr>\n",
       "      <th>0</th>\n",
       "      <td>-10.0</td>\n",
       "      <td>62.503031</td>\n",
       "    </tr>\n",
       "    <tr>\n",
       "      <th>1</th>\n",
       "      <td>-9.5</td>\n",
       "      <td>51.410761</td>\n",
       "    </tr>\n",
       "    <tr>\n",
       "      <th>2</th>\n",
       "      <td>-9.0</td>\n",
       "      <td>44.605198</td>\n",
       "    </tr>\n",
       "    <tr>\n",
       "      <th>3</th>\n",
       "      <td>-8.5</td>\n",
       "      <td>24.739247</td>\n",
       "    </tr>\n",
       "    <tr>\n",
       "      <th>4</th>\n",
       "      <td>-8.0</td>\n",
       "      <td>22.200164</td>\n",
       "    </tr>\n",
       "  </tbody>\n",
       "</table>\n",
       "</div>"
      ],
      "text/plain": [
       "      x          y\n",
       "0 -10.0  62.503031\n",
       "1  -9.5  51.410761\n",
       "2  -9.0  44.605198\n",
       "3  -8.5  24.739247\n",
       "4  -8.0  22.200164"
      ]
     },
     "execution_count": 443,
     "metadata": {},
     "output_type": "execute_result"
    }
   ],
   "source": [
    "#generate data and put it in the dataframe\n",
    "np.random.seed(2018)\n",
    "x=np.arange(-10,20,0.5)\n",
    "y=x**4/100+x**3/20+x**2/3+2*x+np.random.normal(loc=0,scale=3,size=60)\n",
    "data1=pd.DataFrame({'x':x,'y':y}) #create a dataframe\n",
    "#slice the data in three pieces (we'll talk about those later)\n",
    "data1_2=data1.loc[40:49]\n",
    "data1_3=data1.loc[50:59]\n",
    "# data1=data1.loc[0:39] \n",
    "data1.head()#for now let's stick with this first one\n",
    "# loc / iloc[:,0]\n",
    "# iloc[::2,0]"
   ]
  },
  {
   "cell_type": "markdown",
   "metadata": {},
   "source": [
    "### A quick look of distribution."
   ]
  },
  {
   "cell_type": "code",
   "execution_count": 444,
   "metadata": {},
   "outputs": [
    {
     "data": {
      "text/plain": [
       "[<matplotlib.lines.Line2D at 0x1c1dbc61d0>]"
      ]
     },
     "execution_count": 444,
     "metadata": {},
     "output_type": "execute_result"
    },
    {
     "data": {
      "image/png": "[encoded data removed]",
      "text/plain": [
       "<Figure size 432x288 with 1 Axes>"
      ]
     },
     "metadata": {},
     "output_type": "display_data"
    }
   ],
   "source": [
    "plt.plot(data1.x,data1.y,'or')\n",
    "plt.plot(data1_2.x,data1_2.y,'ob')\n",
    "plt.plot(data1_3.x,data1_3.y,'og')"
   ]
  },
  {
   "cell_type": "markdown",
   "metadata": {},
   "source": [
    "# generate regressors for data1, data1_2, data1_3"
   ]
  },
  {
   "cell_type": "markdown",
   "metadata": {},
   "source": [
    "### Apply a linear regression at first"
   ]
  },
  {
   "cell_type": "code",
   "execution_count": 445,
   "metadata": {},
   "outputs": [
    {
     "name": "stdout",
     "output_type": "stream",
     "text": [
      "                            OLS Regression Results                            \n",
      "==============================================================================\n",
      "Dep. Variable:                      y   R-squared:                       0.604\n",
      "Model:                            OLS   Adj. R-squared:                  0.597\n",
      "Method:                 Least Squares   F-statistic:                     88.28\n",
      "Date:                Sun, 21 Oct 2018   Prob (F-statistic):           2.97e-13\n",
      "Time:                        12:48:30   Log-Likelihood:                -430.67\n",
      "No. Observations:                  60   AIC:                             865.3\n",
      "Df Residuals:                      58   BIC:                             869.5\n",
      "Df Model:                           1                                         \n",
      "Covariance Type:            nonrobust                                         \n",
      "==============================================================================\n",
      "                 coef    std err          t      P>|t|      [0.025      0.975]\n",
      "------------------------------------------------------------------------------\n",
      "Intercept     93.7167     47.476      1.974      0.053      -1.316     188.750\n",
      "x             45.1658      4.807      9.396      0.000      35.543      54.788\n",
      "==============================================================================\n",
      "Omnibus:                       11.975   Durbin-Watson:                   0.025\n",
      "Prob(Omnibus):                  0.003   Jarque-Bera (JB):               12.292\n",
      "Skew:                           1.042   Prob(JB):                      0.00214\n",
      "Kurtosis:                       3.756   Cond. No.                         11.3\n",
      "==============================================================================\n",
      "\n",
      "Warnings:\n",
      "[1] Standard Errors assume that the covariance matrix of the errors is correctly specified.\n",
      "                            OLS Regression Results                            \n",
      "==============================================================================\n",
      "Dep. Variable:                      y   R-squared:                       0.982\n",
      "Model:                            OLS   Adj. R-squared:                  0.979\n",
      "Method:                 Least Squares   F-statistic:                     426.0\n",
      "Date:                Sun, 21 Oct 2018   Prob (F-statistic):           3.18e-08\n",
      "Time:                        12:48:30   Log-Likelihood:                -44.798\n",
      "No. Observations:                  10   AIC:                             93.60\n",
      "Df Residuals:                       8   BIC:                             94.20\n",
      "Df Model:                           1                                         \n",
      "Covariance Type:            nonrobust                                         \n",
      "==============================================================================\n",
      "                 coef    std err          t      P>|t|      [0.025      0.975]\n",
      "------------------------------------------------------------------------------\n",
      "Intercept   -914.2808     64.813    -14.106      0.000   -1063.740    -764.822\n",
      "x            108.4603      5.255     20.640      0.000      96.343     120.578\n",
      "==============================================================================\n",
      "Omnibus:                        1.387   Durbin-Watson:                   0.505\n",
      "Prob(Omnibus):                  0.500   Jarque-Bera (JB):                1.008\n",
      "Skew:                           0.602   Prob(JB):                        0.604\n",
      "Kurtosis:                       2.016   Cond. No.                         107.\n",
      "==============================================================================\n",
      "\n",
      "Warnings:\n",
      "[1] Standard Errors assume that the covariance matrix of the errors is correctly specified.\n",
      "                            OLS Regression Results                            \n",
      "==============================================================================\n",
      "Dep. Variable:                      y   R-squared:                       0.990\n",
      "Model:                            OLS   Adj. R-squared:                  0.989\n",
      "Method:                 Least Squares   F-statistic:                     821.7\n",
      "Date:                Sun, 21 Oct 2018   Prob (F-statistic):           2.37e-09\n",
      "Time:                        12:48:30   Log-Likelihood:                -50.499\n",
      "No. Observations:                  10   AIC:                             105.0\n",
      "Df Residuals:                       8   BIC:                             105.6\n",
      "Df Model:                           1                                         \n",
      "Covariance Type:            nonrobust                                         \n",
      "==============================================================================\n",
      "                 coef    std err          t      P>|t|      [0.025      0.975]\n",
      "------------------------------------------------------------------------------\n",
      "Intercept  -3277.9306    160.858    -20.378      0.000   -3648.870   -2906.992\n",
      "x            266.3927      9.293     28.666      0.000     244.963     287.822\n",
      "==============================================================================\n",
      "Omnibus:                        1.500   Durbin-Watson:                   0.466\n",
      "Prob(Omnibus):                  0.472   Jarque-Bera (JB):                1.032\n",
      "Skew:                           0.571   Prob(JB):                        0.597\n",
      "Kurtosis:                       1.918   Cond. No.                         209.\n",
      "==============================================================================\n",
      "\n",
      "Warnings:\n",
      "[1] Standard Errors assume that the covariance matrix of the errors is correctly specified.\n"
     ]
    },
    {
     "name": "stderr",
     "output_type": "stream",
     "text": [
      "/Users/hemingyi/anaconda2/envs/py36/lib/python3.6/site-packages/scipy/stats/stats.py:1394: UserWarning: kurtosistest only valid for n>=20 ... continuing anyway, n=10\n",
      "  \"anyway, n=%i\" % int(n))\n",
      "/Users/hemingyi/anaconda2/envs/py36/lib/python3.6/site-packages/scipy/stats/stats.py:1394: UserWarning: kurtosistest only valid for n>=20 ... continuing anyway, n=10\n",
      "  \"anyway, n=%i\" % int(n))\n"
     ]
    },
    {
     "data": {
      "image/png": "[encoded data removed]",
      "text/plain": [
       "<Figure size 432x288 with 1 Axes>"
      ]
     },
     "metadata": {},
     "output_type": "display_data"
    },
    {
     "data": {
      "image/png": "[encoded data removed]",
      "text/plain": [
       "<Figure size 432x288 with 1 Axes>"
      ]
     },
     "metadata": {},
     "output_type": "display_data"
    },
    {
     "data": {
      "image/png": "[encoded data removed]",
      "text/plain": [
       "<Figure size 432x288 with 1 Axes>"
      ]
     },
     "metadata": {},
     "output_type": "display_data"
    }
   ],
   "source": [
    "dataset = [data1, data1_2, data1_3]\n",
    "for i in dataset:\n",
    "    mod = smf.ols(formula='y ~ x', data = i).fit()\n",
    "    print(mod.summary())\n",
    "    abline_plot(model_results=mod, color='red',label='fit line')\n",
    "    plt.xlabel('X', fontsize = 20)\n",
    "    plt.ylabel('Y', fontsize = 20)\n",
    "    plt.plot(i['x'],i['y'],'bo', label='$f(x)$')\n",
    "    plt.legend(fontsize=12)\n"
   ]
  },
  {
   "cell_type": "code",
   "execution_count": 77,
   "metadata": {},
   "outputs": [],
   "source": [
    "#consider just the model of degree M=10"
   ]
  },
  {
   "cell_type": "code",
   "execution_count": 78,
   "metadata": {},
   "outputs": [],
   "source": [
    "#standardise the data including validation and test sets (using normalization learned from training)"
   ]
  },
  {
   "cell_type": "code",
   "execution_count": 79,
   "metadata": {},
   "outputs": [],
   "source": [
    "#fit Lasso for various alpha and tune it to optimize Validation R2"
   ]
  },
  {
   "cell_type": "code",
   "execution_count": 80,
   "metadata": {},
   "outputs": [],
   "source": [
    "#report test R2"
   ]
  },
  {
   "cell_type": "code",
   "execution_count": 81,
   "metadata": {},
   "outputs": [],
   "source": [
    "#visualize the model against all the data from training, validation and test samples "
   ]
  },
  {
   "cell_type": "code",
   "execution_count": 446,
   "metadata": {},
   "outputs": [],
   "source": [
    "scaler = preprocessing.StandardScaler()\n",
    "X = np.array(data1['x']).reshape([-1,1])\n",
    "Y = np.array(data1['y']).reshape([-1,1])\n",
    "X_sca = scaler.fit_transform(X)\n",
    "# scaler.fit(x)\n",
    "# tansform(x)\n",
    "Y_sca = scaler.fit_transform(Y)\n",
    "# X_poly = preprocessing.PolynomialFeatures(degree=4, interaction_only=False, include_bias=True).fit_transform(X_sca)\n"
   ]
  },
  {
   "cell_type": "code",
   "execution_count": 447,
   "metadata": {},
   "outputs": [],
   "source": [
    "X_trainraw = X_sca[0:39]\n",
    "X_valiraw = X_sca[40:49]\n",
    "X_testraw = X_sca[50:59]\n",
    "Y_train = Y_sca[0:39]\n",
    "Y_vali = Y_sca[40:49]\n",
    "Y_test = Y_sca[50:59]\n",
    "# predict = []\n",
    "# print(Y_train,Y_test)\n",
    "# alfa = [0.0001,0.001,0.01,0.1]\n",
    "X_train = preprocessing.PolynomialFeatures(degree=10, interaction_only=False, include_bias=True).fit_transform(X_trainraw)\n",
    "X_test = preprocessing.PolynomialFeatures(degree=10, interaction_only=False, include_bias=True).fit_transform(X_testraw)\n",
    "X_vali = preprocessing.PolynomialFeatures(degree=10, interaction_only=False, include_bias=True).fit_transform(X_valiraw)\n",
    "# print(X_train)"
   ]
  },
  {
   "cell_type": "code",
   "execution_count": 448,
   "metadata": {},
   "outputs": [
    {
     "name": "stderr",
     "output_type": "stream",
     "text": [
      "/Users/hemingyi/anaconda2/envs/py36/lib/python3.6/site-packages/sklearn/linear_model/coordinate_descent.py:491: ConvergenceWarning: Objective did not converge. You might want to increase the number of iterations. Fitting data with very small alpha may cause precision problems.\n",
      "  ConvergenceWarning)\n",
      "/Users/hemingyi/anaconda2/envs/py36/lib/python3.6/site-packages/sklearn/linear_model/coordinate_descent.py:491: ConvergenceWarning: Objective did not converge. You might want to increase the number of iterations. Fitting data with very small alpha may cause precision problems.\n",
      "  ConvergenceWarning)\n",
      "/Users/hemingyi/anaconda2/envs/py36/lib/python3.6/site-packages/sklearn/linear_model/coordinate_descent.py:491: ConvergenceWarning: Objective did not converge. You might want to increase the number of iterations. Fitting data with very small alpha may cause precision problems.\n",
      "  ConvergenceWarning)\n",
      "/Users/hemingyi/anaconda2/envs/py36/lib/python3.6/site-packages/sklearn/linear_model/coordinate_descent.py:491: ConvergenceWarning: Objective did not converge. You might want to increase the number of iterations. Fitting data with very small alpha may cause precision problems.\n",
      "  ConvergenceWarning)\n",
      "/Users/hemingyi/anaconda2/envs/py36/lib/python3.6/site-packages/sklearn/linear_model/coordinate_descent.py:491: ConvergenceWarning: Objective did not converge. You might want to increase the number of iterations. Fitting data with very small alpha may cause precision problems.\n",
      "  ConvergenceWarning)\n",
      "/Users/hemingyi/anaconda2/envs/py36/lib/python3.6/site-packages/sklearn/linear_model/coordinate_descent.py:491: ConvergenceWarning: Objective did not converge. You might want to increase the number of iterations. Fitting data with very small alpha may cause precision problems.\n",
      "  ConvergenceWarning)\n",
      "/Users/hemingyi/anaconda2/envs/py36/lib/python3.6/site-packages/sklearn/linear_model/coordinate_descent.py:491: ConvergenceWarning: Objective did not converge. You might want to increase the number of iterations. Fitting data with very small alpha may cause precision problems.\n",
      "  ConvergenceWarning)\n",
      "/Users/hemingyi/anaconda2/envs/py36/lib/python3.6/site-packages/sklearn/linear_model/coordinate_descent.py:491: ConvergenceWarning: Objective did not converge. You might want to increase the number of iterations. Fitting data with very small alpha may cause precision problems.\n",
      "  ConvergenceWarning)\n",
      "/Users/hemingyi/anaconda2/envs/py36/lib/python3.6/site-packages/sklearn/linear_model/coordinate_descent.py:491: ConvergenceWarning: Objective did not converge. You might want to increase the number of iterations. Fitting data with very small alpha may cause precision problems.\n",
      "  ConvergenceWarning)\n",
      "/Users/hemingyi/anaconda2/envs/py36/lib/python3.6/site-packages/sklearn/linear_model/coordinate_descent.py:491: ConvergenceWarning: Objective did not converge. You might want to increase the number of iterations. Fitting data with very small alpha may cause precision problems.\n",
      "  ConvergenceWarning)\n",
      "/Users/hemingyi/anaconda2/envs/py36/lib/python3.6/site-packages/sklearn/linear_model/coordinate_descent.py:491: ConvergenceWarning: Objective did not converge. You might want to increase the number of iterations. Fitting data with very small alpha may cause precision problems.\n",
      "  ConvergenceWarning)\n",
      "/Users/hemingyi/anaconda2/envs/py36/lib/python3.6/site-packages/sklearn/linear_model/coordinate_descent.py:491: ConvergenceWarning: Objective did not converge. You might want to increase the number of iterations. Fitting data with very small alpha may cause precision problems.\n",
      "  ConvergenceWarning)\n",
      "/Users/hemingyi/anaconda2/envs/py36/lib/python3.6/site-packages/sklearn/linear_model/coordinate_descent.py:491: ConvergenceWarning: Objective did not converge. You might want to increase the number of iterations. Fitting data with very small alpha may cause precision problems.\n",
      "  ConvergenceWarning)\n",
      "/Users/hemingyi/anaconda2/envs/py36/lib/python3.6/site-packages/sklearn/linear_model/coordinate_descent.py:491: ConvergenceWarning: Objective did not converge. You might want to increase the number of iterations. Fitting data with very small alpha may cause precision problems.\n",
      "  ConvergenceWarning)\n",
      "/Users/hemingyi/anaconda2/envs/py36/lib/python3.6/site-packages/sklearn/linear_model/coordinate_descent.py:491: ConvergenceWarning: Objective did not converge. You might want to increase the number of iterations. Fitting data with very small alpha may cause precision problems.\n",
      "  ConvergenceWarning)\n",
      "/Users/hemingyi/anaconda2/envs/py36/lib/python3.6/site-packages/sklearn/linear_model/coordinate_descent.py:491: ConvergenceWarning: Objective did not converge. You might want to increase the number of iterations. Fitting data with very small alpha may cause precision problems.\n",
      "  ConvergenceWarning)\n",
      "/Users/hemingyi/anaconda2/envs/py36/lib/python3.6/site-packages/sklearn/linear_model/coordinate_descent.py:491: ConvergenceWarning: Objective did not converge. You might want to increase the number of iterations. Fitting data with very small alpha may cause precision problems.\n",
      "  ConvergenceWarning)\n",
      "/Users/hemingyi/anaconda2/envs/py36/lib/python3.6/site-packages/sklearn/linear_model/coordinate_descent.py:491: ConvergenceWarning: Objective did not converge. You might want to increase the number of iterations. Fitting data with very small alpha may cause precision problems.\n",
      "  ConvergenceWarning)\n",
      "/Users/hemingyi/anaconda2/envs/py36/lib/python3.6/site-packages/sklearn/linear_model/coordinate_descent.py:491: ConvergenceWarning: Objective did not converge. You might want to increase the number of iterations. Fitting data with very small alpha may cause precision problems.\n",
      "  ConvergenceWarning)\n",
      "/Users/hemingyi/anaconda2/envs/py36/lib/python3.6/site-packages/sklearn/linear_model/coordinate_descent.py:491: ConvergenceWarning: Objective did not converge. You might want to increase the number of iterations. Fitting data with very small alpha may cause precision problems.\n",
      "  ConvergenceWarning)\n",
      "/Users/hemingyi/anaconda2/envs/py36/lib/python3.6/site-packages/sklearn/linear_model/coordinate_descent.py:491: ConvergenceWarning: Objective did not converge. You might want to increase the number of iterations. Fitting data with very small alpha may cause precision problems.\n",
      "  ConvergenceWarning)\n",
      "/Users/hemingyi/anaconda2/envs/py36/lib/python3.6/site-packages/sklearn/linear_model/coordinate_descent.py:491: ConvergenceWarning: Objective did not converge. You might want to increase the number of iterations. Fitting data with very small alpha may cause precision problems.\n",
      "  ConvergenceWarning)\n",
      "/Users/hemingyi/anaconda2/envs/py36/lib/python3.6/site-packages/sklearn/linear_model/coordinate_descent.py:491: ConvergenceWarning: Objective did not converge. You might want to increase the number of iterations. Fitting data with very small alpha may cause precision problems.\n",
      "  ConvergenceWarning)\n",
      "/Users/hemingyi/anaconda2/envs/py36/lib/python3.6/site-packages/sklearn/linear_model/coordinate_descent.py:491: ConvergenceWarning: Objective did not converge. You might want to increase the number of iterations. Fitting data with very small alpha may cause precision problems.\n",
      "  ConvergenceWarning)\n",
      "/Users/hemingyi/anaconda2/envs/py36/lib/python3.6/site-packages/sklearn/linear_model/coordinate_descent.py:491: ConvergenceWarning: Objective did not converge. You might want to increase the number of iterations. Fitting data with very small alpha may cause precision problems.\n",
      "  ConvergenceWarning)\n",
      "/Users/hemingyi/anaconda2/envs/py36/lib/python3.6/site-packages/sklearn/linear_model/coordinate_descent.py:491: ConvergenceWarning: Objective did not converge. You might want to increase the number of iterations. Fitting data with very small alpha may cause precision problems.\n",
      "  ConvergenceWarning)\n",
      "/Users/hemingyi/anaconda2/envs/py36/lib/python3.6/site-packages/sklearn/linear_model/coordinate_descent.py:491: ConvergenceWarning: Objective did not converge. You might want to increase the number of iterations. Fitting data with very small alpha may cause precision problems.\n",
      "  ConvergenceWarning)\n",
      "/Users/hemingyi/anaconda2/envs/py36/lib/python3.6/site-packages/sklearn/linear_model/coordinate_descent.py:491: ConvergenceWarning: Objective did not converge. You might want to increase the number of iterations. Fitting data with very small alpha may cause precision problems.\n",
      "  ConvergenceWarning)\n",
      "/Users/hemingyi/anaconda2/envs/py36/lib/python3.6/site-packages/sklearn/linear_model/coordinate_descent.py:491: ConvergenceWarning: Objective did not converge. You might want to increase the number of iterations. Fitting data with very small alpha may cause precision problems.\n",
      "  ConvergenceWarning)\n",
      "/Users/hemingyi/anaconda2/envs/py36/lib/python3.6/site-packages/sklearn/linear_model/coordinate_descent.py:491: ConvergenceWarning: Objective did not converge. You might want to increase the number of iterations. Fitting data with very small alpha may cause precision problems.\n",
      "  ConvergenceWarning)\n",
      "/Users/hemingyi/anaconda2/envs/py36/lib/python3.6/site-packages/sklearn/linear_model/coordinate_descent.py:491: ConvergenceWarning: Objective did not converge. You might want to increase the number of iterations. Fitting data with very small alpha may cause precision problems.\n",
      "  ConvergenceWarning)\n",
      "/Users/hemingyi/anaconda2/envs/py36/lib/python3.6/site-packages/sklearn/linear_model/coordinate_descent.py:491: ConvergenceWarning: Objective did not converge. You might want to increase the number of iterations. Fitting data with very small alpha may cause precision problems.\n",
      "  ConvergenceWarning)\n",
      "/Users/hemingyi/anaconda2/envs/py36/lib/python3.6/site-packages/sklearn/linear_model/coordinate_descent.py:491: ConvergenceWarning: Objective did not converge. You might want to increase the number of iterations. Fitting data with very small alpha may cause precision problems.\n",
      "  ConvergenceWarning)\n",
      "/Users/hemingyi/anaconda2/envs/py36/lib/python3.6/site-packages/sklearn/linear_model/coordinate_descent.py:491: ConvergenceWarning: Objective did not converge. You might want to increase the number of iterations. Fitting data with very small alpha may cause precision problems.\n",
      "  ConvergenceWarning)\n"
     ]
    }
   ],
   "source": [
    "alphas = np.exp(np.linspace(-40,0,40))\n",
    "best = {}\n",
    "for alfa in alphas:\n",
    "    sklearn_lasso = linear_model.Lasso(fit_intercept=True,alpha=alfa,normalize=False)\n",
    "    model = sklearn_lasso.fit(X_train,Y_train)\n",
    "#     predict_y = model.predict(X_test)\n",
    "    predict_R2 = model.score(X_vali,Y_vali)\n",
    "#     R2 = model.score(X_train,Y_train)\n",
    "#     return predict_R2\n",
    "    best[predict_R2] = alfa\n",
    "#     print('alpha=',alfa)\n",
    "#     print('Train R2:',R2)\n",
    "#     print('Test R2:',predict_R2)\n",
    "#     print('----------------------')"
   ]
  },
  {
   "cell_type": "code",
   "execution_count": 449,
   "metadata": {},
   "outputs": [
    {
     "name": "stdout",
     "output_type": "stream",
     "text": [
      "best alpha: 4.248354255291589e-18\n",
      "best R2: 0.8340850521882363\n"
     ]
    }
   ],
   "source": [
    "print('best alpha:', best[sorted(list(best.keys()))[-1]])\n",
    "print('best R2:', sorted(list(best.keys()))[-1])\n",
    "best_alfa = best[sorted(list(best.keys()))[-1]]"
   ]
  },
  {
   "cell_type": "code",
   "execution_count": 450,
   "metadata": {},
   "outputs": [],
   "source": [
    "def func_lasso(alfa):\n",
    "    sklearn_lasso = linear_model.Lasso(fit_intercept=True,alpha=alfa,normalize=False)\n",
    "    model = sklearn_lasso.fit(X_train,Y_train)\n",
    "    predict_y = model.predict(X_test)\n",
    "    predict_R2 = model.score(X_test,Y_test)\n",
    "    R2 = model.score(X_train,Y_train)\n",
    "#     R2 = model.score(X_train,Y_train)\n",
    "#     return predict_R2\n",
    "    print('alpha=',alfa)\n",
    "    print('Train R2:',R2)\n",
    "    print('Test R2:',predict_R2)\n",
    "#     print('----------------------')\n",
    "    figure,ax = plt.subplots(figsize=(6,6))\n",
    "    plt.plot(X_testraw,predict_y,'--',label='alpha=%s predict model'%(alfa))\n",
    "    plt.plot(X_testraw,Y_test,'.',markersize=8,label='origin test y value')\n",
    "    plt.legend(fontsize=12)"
   ]
  },
  {
   "cell_type": "code",
   "execution_count": 451,
   "metadata": {},
   "outputs": [
    {
     "name": "stdout",
     "output_type": "stream",
     "text": [
      "alpha= 4.248354255291589e-18\n",
      "Train R2: 0.9947338752630853\n",
      "Test R2: 0.1341052105978887\n"
     ]
    },
    {
     "name": "stderr",
     "output_type": "stream",
     "text": [
      "/Users/hemingyi/anaconda2/envs/py36/lib/python3.6/site-packages/sklearn/linear_model/coordinate_descent.py:491: ConvergenceWarning: Objective did not converge. You might want to increase the number of iterations. Fitting data with very small alpha may cause precision problems.\n",
      "  ConvergenceWarning)\n"
     ]
    },
    {
     "data": {
      "image/png": "[encoded data removed]",
      "text/plain": [
       "<Figure size 432x432 with 1 Axes>"
      ]
     },
     "metadata": {},
     "output_type": "display_data"
    }
   ],
   "source": [
    "sbn.set(style='whitegrid')\n",
    "func_lasso(best_alfa)"
   ]
  },
  {
   "cell_type": "markdown",
   "metadata": {},
   "source": [
    "### From the output above, I assume that when alpha = 0.0001, the model has the highest R sqaure in the test. Thus, I am going to apply this model to all the data."
   ]
  },
  {
   "cell_type": "code",
   "execution_count": 452,
   "metadata": {},
   "outputs": [
    {
     "name": "stderr",
     "output_type": "stream",
     "text": [
      "/Users/hemingyi/anaconda2/envs/py36/lib/python3.6/site-packages/sklearn/linear_model/coordinate_descent.py:491: ConvergenceWarning: Objective did not converge. You might want to increase the number of iterations. Fitting data with very small alpha may cause precision problems.\n",
      "  ConvergenceWarning)\n"
     ]
    },
    {
     "name": "stdout",
     "output_type": "stream",
     "text": [
      "alpha= 4.248354255291589e-18\n",
      "Train R2: 0.9947338752630853\n",
      "Test R2: 0.9217436874882937\n"
     ]
    },
    {
     "data": {
      "text/plain": [
       "<matplotlib.legend.Legend at 0x1c1c303eb8>"
      ]
     },
     "execution_count": 452,
     "metadata": {},
     "output_type": "execute_result"
    },
    {
     "data": {
      "image/png": "[encoded data removed]",
      "text/plain": [
       "<Figure size 432x432 with 1 Axes>"
      ]
     },
     "metadata": {},
     "output_type": "display_data"
    }
   ],
   "source": [
    "X_poly = preprocessing.PolynomialFeatures(degree=10, interaction_only=False, include_bias=True).fit_transform(X_sca)\n",
    "sklearn_lasso = linear_model.Lasso(alpha=best_alfa,normalize=False)\n",
    "model = sklearn_lasso.fit(X_train,Y_train)\n",
    "predict_y = model.predict(X_poly)\n",
    "predict_R2 = model.score(X_poly,Y_sca,sample_weight=None)\n",
    "R2 = model.score(X_train,Y_train)\n",
    "print('alpha=',best_alfa)\n",
    "print('Train R2:',R2)\n",
    "print('Test R2:',predict_R2)\n",
    "#     print('----------------------')\n",
    "figure,ax = plt.subplots(figsize=(6,6))\n",
    "# plt.plot(X_trainraw,Y_train,'bo',markersize=10,label='data1_2')\n",
    "# plt.plot(X_testraw,Y_test,'ro',markersize=10,label='data1_3')\n",
    "plt.plot(X_sca[0:39],Y_sca[0:39],'ro',markersize=3,label='data1')\n",
    "plt.plot(X_sca[40:49],Y_sca[40:49],'yo',markersize=3,label='data1')\n",
    "plt.plot(X_sca[50:59],Y_sca[50:59],'bo',markersize=3,label='data1')\n",
    "plt.plot(X_sca,predict_y,'g-',label='predict model')\n",
    "plt.legend(fontsize=12)"
   ]
  },
  {
   "cell_type": "markdown",
   "metadata": {},
   "source": [
    "### Question 2. P-values and hypothesis testing\n",
    "Suppose that a multiple regression with 7 regressors gave the following p-values for each of them:\n",
    "0.02, 0.1, 3e-15, 0.04, 0.001, 0.06, 0.03.\n",
    "\n",
    "For how many regressors you would reject the null-hypothesis that their corresponding regression coefficient is zero at the 95% confidence level? Please explain."
   ]
  },
  {
   "cell_type": "markdown",
   "metadata": {},
   "source": [
    "#### When alpha = 95%, p = 0.05, and when we are able to reject a null hypothesis at 95% confidence level, the alpha > 95%, thus p < 0.05. In this case, we can reject the null hypothesis at 95% confidence level in the regressor 1,3,4,5,7 "
   ]
  },
  {
   "cell_type": "markdown",
   "metadata": {},
   "source": [
    "### Question 3. Confidence intervals\n",
    "Assume we perform a regression and get an estimate 10 for the slope coefficient for the regressor of interest. Select all statements that can not be true for its confidence intervals:\n",
    "\n",
    "a. 95%-confidence interval is [-5, 5]\n",
    "\n",
    "b. 99%-conficence interval is [9.99,10.01]\n",
    "\n",
    "c. 95%-confidence interval is [9,100]\n",
    "\n",
    "d. 99%-confidence interval is [8, 12], while 95%-confidence interval is [9, 11].\n",
    "\n",
    "Explain your choices"
   ]
  },
  {
   "cell_type": "markdown",
   "metadata": {},
   "source": [
    "# a"
   ]
  },
  {
   "cell_type": "markdown",
   "metadata": {},
   "source": [
    "#### a is wrong. In a, the range of coefficient is from negative number to positive number, and estimate 10 is not in this range, it is meanningless. "
   ]
  },
  {
   "cell_type": "markdown",
   "metadata": {},
   "source": [
    "# Principal component regression"
   ]
  },
  {
   "cell_type": "markdown",
   "metadata": {},
   "source": [
    "### Question 4\n",
    "\n",
    "Using the median price per sq.foot from Zillow data below as reported for 2018-08, fit the linear model using N leading principal components of the 311 data and perform cross-validation. Visualize performance depending on the number N of leading PCs. Specifically: \n",
    "    1. implement a 20-times-cross-validation as a function of N returing OS R2\n",
    "    2. run it for N=1,2,...30, return the best N and the corresponding R2\n",
    "    3. mark it with a vertical line on the plot and put the value of N and the corresponding R2 as text labels\n",
    "**Important:** keep training pca over the training sample only, applying the same pca transform to the test samples in order to prepare regressors for them"
   ]
  },
  {
   "cell_type": "code",
   "execution_count": 528,
   "metadata": {},
   "outputs": [],
   "source": [
    "from sklearn.linear_model import LinearRegression\n",
    "from sklearn.cross_validation import train_test_split\n",
    "from sklearn.neighbors import KNeighborsClassifier\n",
    "from sklearn.cross_validation import cross_val_score\n"
   ]
  },
  {
   "cell_type": "code",
   "execution_count": 529,
   "metadata": {},
   "outputs": [
    {
     "data": {
      "text/plain": [
       "Index(['City', 'State', 'Metro', 'CountyName', 'SizeRank', '2010-01',\n",
       "       '2010-02', '2010-03', '2010-04', '2010-05',\n",
       "       ...\n",
       "       '2017-11', '2017-12', '2018-01', '2018-02', '2018-03', '2018-04',\n",
       "       '2018-05', '2018-06', '2018-07', '2018-08'],\n",
       "      dtype='object', length=109)"
      ]
     },
     "execution_count": 529,
     "metadata": {},
     "output_type": "execute_result"
    }
   ],
   "source": [
    "# Write code here\n",
    "zillow=pd.read_csv(\"ads_hw3_data/Zip_MedianListingPricePerSqft_AllHomes.csv\",index_col=0)\n",
    "zillow = zillow[zillow['City']=='New York']\n",
    "zillow.columns"
   ]
  },
  {
   "cell_type": "code",
   "execution_count": 530,
   "metadata": {},
   "outputs": [
    {
     "data": {
      "text/html": [
       "<div>\n",
       "<style scoped>\n",
       "    .dataframe tbody tr th:only-of-type {\n",
       "        vertical-align: middle;\n",
       "    }\n",
       "\n",
       "    .dataframe tbody tr th {\n",
       "        vertical-align: top;\n",
       "    }\n",
       "\n",
       "    .dataframe thead th {\n",
       "        text-align: right;\n",
       "    }\n",
       "</style>\n",
       "<table border=\"1\" class=\"dataframe\">\n",
       "  <thead>\n",
       "    <tr style=\"text-align: right;\">\n",
       "      <th></th>\n",
       "      <th>City</th>\n",
       "      <th>State</th>\n",
       "      <th>Metro</th>\n",
       "      <th>CountyName</th>\n",
       "      <th>SizeRank</th>\n",
       "      <th>2018-08</th>\n",
       "    </tr>\n",
       "    <tr>\n",
       "      <th>RegionName</th>\n",
       "      <th></th>\n",
       "      <th></th>\n",
       "      <th></th>\n",
       "      <th></th>\n",
       "      <th></th>\n",
       "      <th></th>\n",
       "    </tr>\n",
       "  </thead>\n",
       "  <tbody>\n",
       "    <tr>\n",
       "      <th>10023</th>\n",
       "      <td>New York</td>\n",
       "      <td>NY</td>\n",
       "      <td>New York, NY</td>\n",
       "      <td>New York</td>\n",
       "      <td>1</td>\n",
       "      <td>1619.794484</td>\n",
       "    </tr>\n",
       "    <tr>\n",
       "      <th>10002</th>\n",
       "      <td>New York</td>\n",
       "      <td>NY</td>\n",
       "      <td>New York, NY</td>\n",
       "      <td>New York</td>\n",
       "      <td>4</td>\n",
       "      <td>2030.259366</td>\n",
       "    </tr>\n",
       "    <tr>\n",
       "      <th>10016</th>\n",
       "      <td>New York</td>\n",
       "      <td>NY</td>\n",
       "      <td>New York, NY</td>\n",
       "      <td>New York</td>\n",
       "      <td>11</td>\n",
       "      <td>1456.997085</td>\n",
       "    </tr>\n",
       "    <tr>\n",
       "      <th>11235</th>\n",
       "      <td>New York</td>\n",
       "      <td>NY</td>\n",
       "      <td>New York, NY</td>\n",
       "      <td>Kings</td>\n",
       "      <td>13</td>\n",
       "      <td>575.000000</td>\n",
       "    </tr>\n",
       "    <tr>\n",
       "      <th>10009</th>\n",
       "      <td>New York</td>\n",
       "      <td>NY</td>\n",
       "      <td>New York, NY</td>\n",
       "      <td>New York</td>\n",
       "      <td>18</td>\n",
       "      <td>1798.307475</td>\n",
       "    </tr>\n",
       "  </tbody>\n",
       "</table>\n",
       "</div>"
      ],
      "text/plain": [
       "                City State         Metro CountyName  SizeRank      2018-08\n",
       "RegionName                                                                \n",
       "10023       New York    NY  New York, NY   New York         1  1619.794484\n",
       "10002       New York    NY  New York, NY   New York         4  2030.259366\n",
       "10016       New York    NY  New York, NY   New York        11  1456.997085\n",
       "11235       New York    NY  New York, NY      Kings        13   575.000000\n",
       "10009       New York    NY  New York, NY   New York        18  1798.307475"
      ]
     },
     "execution_count": 530,
     "metadata": {},
     "output_type": "execute_result"
    }
   ],
   "source": [
    "zillow = zillow[['City','State', 'Metro', 'CountyName', 'SizeRank','2018-08']]\n",
    "zillow = zillow.dropna(axis = 0, how = 'any')\n",
    "zillow.head()"
   ]
  },
  {
   "cell_type": "markdown",
   "metadata": {},
   "source": [
    "**Load/process 311 data**"
   ]
  },
  {
   "cell_type": "code",
   "execution_count": 531,
   "metadata": {},
   "outputs": [
    {
     "data": {
      "text/html": [
       "<div>\n",
       "<style scoped>\n",
       "    .dataframe tbody tr th:only-of-type {\n",
       "        vertical-align: middle;\n",
       "    }\n",
       "\n",
       "    .dataframe tbody tr th {\n",
       "        vertical-align: top;\n",
       "    }\n",
       "\n",
       "    .dataframe thead th {\n",
       "        text-align: right;\n",
       "    }\n",
       "</style>\n",
       "<table border=\"1\" class=\"dataframe\">\n",
       "  <thead>\n",
       "    <tr style=\"text-align: right;\">\n",
       "      <th></th>\n",
       "      <th>Zip</th>\n",
       "      <th>Complain</th>\n",
       "      <th>Count</th>\n",
       "    </tr>\n",
       "  </thead>\n",
       "  <tbody>\n",
       "    <tr>\n",
       "      <th>1</th>\n",
       "      <td>NaN</td>\n",
       "      <td>Adopt-A-Basket</td>\n",
       "      <td>5</td>\n",
       "    </tr>\n",
       "    <tr>\n",
       "      <th>2</th>\n",
       "      <td>10001</td>\n",
       "      <td>Adopt-A-Basket</td>\n",
       "      <td>1</td>\n",
       "    </tr>\n",
       "    <tr>\n",
       "      <th>3</th>\n",
       "      <td>10003</td>\n",
       "      <td>Adopt-A-Basket</td>\n",
       "      <td>1</td>\n",
       "    </tr>\n",
       "    <tr>\n",
       "      <th>4</th>\n",
       "      <td>10009</td>\n",
       "      <td>Adopt-A-Basket</td>\n",
       "      <td>1</td>\n",
       "    </tr>\n",
       "    <tr>\n",
       "      <th>5</th>\n",
       "      <td>10010</td>\n",
       "      <td>Adopt-A-Basket</td>\n",
       "      <td>1</td>\n",
       "    </tr>\n",
       "  </tbody>\n",
       "</table>\n",
       "</div>"
      ],
      "text/plain": [
       "     Zip        Complain  Count\n",
       "1    NaN  Adopt-A-Basket      5\n",
       "2  10001  Adopt-A-Basket      1\n",
       "3  10003  Adopt-A-Basket      1\n",
       "4  10009  Adopt-A-Basket      1\n",
       "5  10010  Adopt-A-Basket      1"
      ]
     },
     "execution_count": 531,
     "metadata": {},
     "output_type": "execute_result"
    }
   ],
   "source": [
    "data311 = pd.read_csv( 'ads_hw3_data/aggr311.csv' , index_col=0 )\n",
    "data311.head()"
   ]
  },
  {
   "cell_type": "code",
   "execution_count": 532,
   "metadata": {},
   "outputs": [],
   "source": [
    "data311.Zip=pd.to_numeric(data311.Zip,errors='coerce')\n",
    "data311=data311.loc[(data311.Zip>=10000)&(data311.Zip<11500)] #take only NYC zip codes\n",
    "data311=pd.pivot_table(data311,index='Zip',columns='Complain',values='Count',fill_value=0)"
   ]
  },
  {
   "cell_type": "code",
   "execution_count": 533,
   "metadata": {},
   "outputs": [
    {
     "data": {
      "text/html": [
       "<div>\n",
       "<style scoped>\n",
       "    .dataframe tbody tr th:only-of-type {\n",
       "        vertical-align: middle;\n",
       "    }\n",
       "\n",
       "    .dataframe tbody tr th {\n",
       "        vertical-align: top;\n",
       "    }\n",
       "\n",
       "    .dataframe thead th {\n",
       "        text-align: right;\n",
       "    }\n",
       "</style>\n",
       "<table border=\"1\" class=\"dataframe\">\n",
       "  <thead>\n",
       "    <tr style=\"text-align: right;\">\n",
       "      <th>Complain</th>\n",
       "      <th>APPLIANCE</th>\n",
       "      <th>Adopt-A-Basket</th>\n",
       "      <th>Air Quality</th>\n",
       "      <th>Animal Abuse</th>\n",
       "      <th>Animal Facility - No Permit</th>\n",
       "      <th>Animal in a Park</th>\n",
       "      <th>Asbestos</th>\n",
       "      <th>BEST/Site Safety</th>\n",
       "      <th>Beach/Pool/Sauna Complaint</th>\n",
       "      <th>Bike Rack Condition</th>\n",
       "      <th>...</th>\n",
       "      <th>Unsanitary Pigeon Condition</th>\n",
       "      <th>Urinating in Public</th>\n",
       "      <th>Vacant Lot</th>\n",
       "      <th>Vending</th>\n",
       "      <th>Violation of Park Rules</th>\n",
       "      <th>Water Conservation</th>\n",
       "      <th>Water Quality</th>\n",
       "      <th>Water System</th>\n",
       "      <th>Window Guard</th>\n",
       "      <th>X-Ray Machine/Equipment</th>\n",
       "    </tr>\n",
       "    <tr>\n",
       "      <th>Zip</th>\n",
       "      <th></th>\n",
       "      <th></th>\n",
       "      <th></th>\n",
       "      <th></th>\n",
       "      <th></th>\n",
       "      <th></th>\n",
       "      <th></th>\n",
       "      <th></th>\n",
       "      <th></th>\n",
       "      <th></th>\n",
       "      <th></th>\n",
       "      <th></th>\n",
       "      <th></th>\n",
       "      <th></th>\n",
       "      <th></th>\n",
       "      <th></th>\n",
       "      <th></th>\n",
       "      <th></th>\n",
       "      <th></th>\n",
       "      <th></th>\n",
       "      <th></th>\n",
       "    </tr>\n",
       "  </thead>\n",
       "  <tbody>\n",
       "    <tr>\n",
       "      <th>10000.0</th>\n",
       "      <td>0.000000</td>\n",
       "      <td>0.000000</td>\n",
       "      <td>0.008772</td>\n",
       "      <td>0.0</td>\n",
       "      <td>0.000000</td>\n",
       "      <td>0.008772</td>\n",
       "      <td>0.000000</td>\n",
       "      <td>0.000000</td>\n",
       "      <td>0.000000</td>\n",
       "      <td>0.000000</td>\n",
       "      <td>...</td>\n",
       "      <td>0.000000</td>\n",
       "      <td>0.000000</td>\n",
       "      <td>0.000000</td>\n",
       "      <td>0.070175</td>\n",
       "      <td>0.070175</td>\n",
       "      <td>0.000000</td>\n",
       "      <td>0.000000</td>\n",
       "      <td>0.000000</td>\n",
       "      <td>0.0</td>\n",
       "      <td>0.0</td>\n",
       "    </tr>\n",
       "    <tr>\n",
       "      <th>10001.0</th>\n",
       "      <td>0.000000</td>\n",
       "      <td>0.000146</td>\n",
       "      <td>0.013179</td>\n",
       "      <td>0.0</td>\n",
       "      <td>0.000000</td>\n",
       "      <td>0.000146</td>\n",
       "      <td>0.002929</td>\n",
       "      <td>0.005272</td>\n",
       "      <td>0.000146</td>\n",
       "      <td>0.000146</td>\n",
       "      <td>...</td>\n",
       "      <td>0.000439</td>\n",
       "      <td>0.000000</td>\n",
       "      <td>0.000293</td>\n",
       "      <td>0.007468</td>\n",
       "      <td>0.000732</td>\n",
       "      <td>0.000732</td>\n",
       "      <td>0.000293</td>\n",
       "      <td>0.053595</td>\n",
       "      <td>0.0</td>\n",
       "      <td>0.0</td>\n",
       "    </tr>\n",
       "    <tr>\n",
       "      <th>10002.0</th>\n",
       "      <td>0.001330</td>\n",
       "      <td>0.000000</td>\n",
       "      <td>0.007095</td>\n",
       "      <td>0.0</td>\n",
       "      <td>0.000000</td>\n",
       "      <td>0.001862</td>\n",
       "      <td>0.001596</td>\n",
       "      <td>0.001774</td>\n",
       "      <td>0.000177</td>\n",
       "      <td>0.000532</td>\n",
       "      <td>...</td>\n",
       "      <td>0.000443</td>\n",
       "      <td>0.000089</td>\n",
       "      <td>0.000355</td>\n",
       "      <td>0.002394</td>\n",
       "      <td>0.001242</td>\n",
       "      <td>0.000887</td>\n",
       "      <td>0.000621</td>\n",
       "      <td>0.028734</td>\n",
       "      <td>0.0</td>\n",
       "      <td>0.0</td>\n",
       "    </tr>\n",
       "    <tr>\n",
       "      <th>10003.0</th>\n",
       "      <td>0.001331</td>\n",
       "      <td>0.000089</td>\n",
       "      <td>0.012690</td>\n",
       "      <td>0.0</td>\n",
       "      <td>0.000177</td>\n",
       "      <td>0.003905</td>\n",
       "      <td>0.002130</td>\n",
       "      <td>0.001154</td>\n",
       "      <td>0.000177</td>\n",
       "      <td>0.000177</td>\n",
       "      <td>...</td>\n",
       "      <td>0.000621</td>\n",
       "      <td>0.000976</td>\n",
       "      <td>0.000177</td>\n",
       "      <td>0.004792</td>\n",
       "      <td>0.002218</td>\n",
       "      <td>0.001065</td>\n",
       "      <td>0.000444</td>\n",
       "      <td>0.028219</td>\n",
       "      <td>0.0</td>\n",
       "      <td>0.0</td>\n",
       "    </tr>\n",
       "    <tr>\n",
       "      <th>10004.0</th>\n",
       "      <td>0.000000</td>\n",
       "      <td>0.000000</td>\n",
       "      <td>0.009740</td>\n",
       "      <td>0.0</td>\n",
       "      <td>0.000000</td>\n",
       "      <td>0.002597</td>\n",
       "      <td>0.001948</td>\n",
       "      <td>0.000649</td>\n",
       "      <td>0.000000</td>\n",
       "      <td>0.000649</td>\n",
       "      <td>...</td>\n",
       "      <td>0.000649</td>\n",
       "      <td>0.000649</td>\n",
       "      <td>0.000000</td>\n",
       "      <td>0.010390</td>\n",
       "      <td>0.013636</td>\n",
       "      <td>0.000000</td>\n",
       "      <td>0.000000</td>\n",
       "      <td>0.024026</td>\n",
       "      <td>0.0</td>\n",
       "      <td>0.0</td>\n",
       "    </tr>\n",
       "  </tbody>\n",
       "</table>\n",
       "<p>5 rows × 162 columns</p>\n",
       "</div>"
      ],
      "text/plain": [
       "Complain  APPLIANCE  Adopt-A-Basket  Air Quality  Animal Abuse  \\\n",
       "Zip                                                              \n",
       "10000.0    0.000000        0.000000     0.008772           0.0   \n",
       "10001.0    0.000000        0.000146     0.013179           0.0   \n",
       "10002.0    0.001330        0.000000     0.007095           0.0   \n",
       "10003.0    0.001331        0.000089     0.012690           0.0   \n",
       "10004.0    0.000000        0.000000     0.009740           0.0   \n",
       "\n",
       "Complain  Animal Facility - No Permit  Animal in a Park  Asbestos  \\\n",
       "Zip                                                                 \n",
       "10000.0                      0.000000          0.008772  0.000000   \n",
       "10001.0                      0.000000          0.000146  0.002929   \n",
       "10002.0                      0.000000          0.001862  0.001596   \n",
       "10003.0                      0.000177          0.003905  0.002130   \n",
       "10004.0                      0.000000          0.002597  0.001948   \n",
       "\n",
       "Complain  BEST/Site Safety  Beach/Pool/Sauna Complaint  Bike Rack Condition  \\\n",
       "Zip                                                                           \n",
       "10000.0           0.000000                    0.000000             0.000000   \n",
       "10001.0           0.005272                    0.000146             0.000146   \n",
       "10002.0           0.001774                    0.000177             0.000532   \n",
       "10003.0           0.001154                    0.000177             0.000177   \n",
       "10004.0           0.000649                    0.000000             0.000649   \n",
       "\n",
       "Complain           ...             Unsanitary Pigeon Condition  \\\n",
       "Zip                ...                                           \n",
       "10000.0            ...                                0.000000   \n",
       "10001.0            ...                                0.000439   \n",
       "10002.0            ...                                0.000443   \n",
       "10003.0            ...                                0.000621   \n",
       "10004.0            ...                                0.000649   \n",
       "\n",
       "Complain  Urinating in Public  Vacant Lot   Vending  Violation of Park Rules  \\\n",
       "Zip                                                                            \n",
       "10000.0              0.000000    0.000000  0.070175                 0.070175   \n",
       "10001.0              0.000000    0.000293  0.007468                 0.000732   \n",
       "10002.0              0.000089    0.000355  0.002394                 0.001242   \n",
       "10003.0              0.000976    0.000177  0.004792                 0.002218   \n",
       "10004.0              0.000649    0.000000  0.010390                 0.013636   \n",
       "\n",
       "Complain  Water Conservation  Water Quality  Water System  Window Guard  \\\n",
       "Zip                                                                       \n",
       "10000.0             0.000000       0.000000      0.000000           0.0   \n",
       "10001.0             0.000732       0.000293      0.053595           0.0   \n",
       "10002.0             0.000887       0.000621      0.028734           0.0   \n",
       "10003.0             0.001065       0.000444      0.028219           0.0   \n",
       "10004.0             0.000000       0.000000      0.024026           0.0   \n",
       "\n",
       "Complain  X-Ray Machine/Equipment  \n",
       "Zip                                \n",
       "10000.0                       0.0  \n",
       "10001.0                       0.0  \n",
       "10002.0                       0.0  \n",
       "10003.0                       0.0  \n",
       "10004.0                       0.0  \n",
       "\n",
       "[5 rows x 162 columns]"
      ]
     },
     "execution_count": 533,
     "metadata": {},
     "output_type": "execute_result"
    }
   ],
   "source": [
    "Total311=data311.sum(axis=1) #total 311 activity per zip code\n",
    "data311=data311.div(data311.sum(axis=1), axis=0) #normalize activity of various cathegories within zip code by total\n",
    "data311=data311.loc[Total311>100] #keep only those zip codes having sufficient activity\n",
    "data311.head()"
   ]
  },
  {
   "cell_type": "code",
   "execution_count": 534,
   "metadata": {},
   "outputs": [
    {
     "data": {
      "text/plain": [
       "100"
      ]
     },
     "execution_count": 534,
     "metadata": {},
     "output_type": "execute_result"
    }
   ],
   "source": [
    "zillow = zillow.drop(columns=['City', 'State', 'Metro', 'CountyName','SizeRank'])\n",
    "len(zillow)"
   ]
  },
  {
   "cell_type": "code",
   "execution_count": 535,
   "metadata": {},
   "outputs": [],
   "source": [
    "zillow.index = zillow.index.astype('int')\n",
    "data311.index = data311.index.astype('int')"
   ]
  },
  {
   "cell_type": "code",
   "execution_count": 536,
   "metadata": {},
   "outputs": [],
   "source": [
    "zillow = zillow.dropna()"
   ]
  },
  {
   "cell_type": "code",
   "execution_count": 537,
   "metadata": {},
   "outputs": [
    {
     "data": {
      "text/plain": [
       "Index(['APPLIANCE', 'Adopt-A-Basket', 'Air Quality', 'Animal Abuse',\n",
       "       'Animal Facility - No Permit', 'Animal in a Park', 'Asbestos',\n",
       "       'BEST/Site Safety', 'Beach/Pool/Sauna Complaint', 'Bike Rack Condition',\n",
       "       ...\n",
       "       'Unsanitary Pigeon Condition', 'Urinating in Public', 'Vacant Lot',\n",
       "       'Vending', 'Violation of Park Rules', 'Water Conservation',\n",
       "       'Water Quality', 'Water System', 'Window Guard',\n",
       "       'X-Ray Machine/Equipment'],\n",
       "      dtype='object', name='Complain', length=162)"
      ]
     },
     "execution_count": 537,
     "metadata": {},
     "output_type": "execute_result"
    }
   ],
   "source": [
    "data311.columns"
   ]
  },
  {
   "cell_type": "code",
   "execution_count": 538,
   "metadata": {},
   "outputs": [],
   "source": [
    "all_data = data311.merge(zillow, left_on=data311.index, right_on='RegionName',how='inner')\n",
    "all_data.head()\n",
    "data311 = all_data.drop(columns={'RegionName','2018-08'})\n",
    "zillow = all_data['2018-08']"
   ]
  },
  {
   "cell_type": "code",
   "execution_count": 539,
   "metadata": {},
   "outputs": [],
   "source": [
    "scaler311 = preprocessing.StandardScaler()\n",
    "data311S=scaler311.fit_transform(data311) "
   ]
  },
  {
   "cell_type": "code",
   "execution_count": 540,
   "metadata": {},
   "outputs": [
    {
     "data": {
      "image/png": "[encoded data removed]",
      "text/plain": [
       "<Figure size 432x432 with 1 Axes>"
      ]
     },
     "metadata": {},
     "output_type": "display_data"
    }
   ],
   "source": [
    "pca = PCA(n_components=50)\n",
    "data311P=pca.fit_transform(data311S)\n",
    "eigenvalues = pca.explained_variance_ratio_\n",
    "#plot explained variance over the number of compinents\n",
    "n=50\n",
    "plt.figure(figsize=(6,6))\n",
    "plt.bar(np.arange(n), eigenvalues[:n].cumsum())\n",
    "plt.xlabel(\"Number of components\")\n",
    "plt.ylabel(\"Explained Variance\")\n",
    "plt.show()"
   ]
  },
  {
   "cell_type": "code",
   "execution_count": 541,
   "metadata": {},
   "outputs": [
    {
     "data": {
      "image/png": "[encoded data removed]",
      "text/plain": [
       "<Figure size 576x576 with 1 Axes>"
      ]
     },
     "metadata": {},
     "output_type": "display_data"
    }
   ],
   "source": [
    "N = range(1, 30)\n",
    "zillow_data = np.array(zillow)\n",
    "R2 = []\n",
    "\n",
    "for i in N:\n",
    "    pca = PCA(n_components=i)\n",
    "    data311P_1=pca.fit_transform(data311S)\n",
    "    eigenvalues = pca.explained_variance_ratio_\n",
    "    reg = LinearRegression().fit(data311P_1, zillow_data)\n",
    "    R2.append(reg.score(data311P_1, zillow_data))\n",
    "plt.figure(figsize=(8,8))\n",
    "plt.bar(N,R2)\n",
    "plt.xlabel(\"Number of components\")\n",
    "plt.ylabel(\"R Suqare\")\n",
    "plt.show()"
   ]
  },
  {
   "cell_type": "markdown",
   "metadata": {},
   "source": [
    "### When n_compnents = 30, we have the highest R square."
   ]
  },
  {
   "cell_type": "code",
   "execution_count": 542,
   "metadata": {},
   "outputs": [],
   "source": [
    "from sklearn import svm\n",
    "from sklearn.model_selection import cross_validate\n",
    "from sklearn.model_selection import KFold\n",
    "from sklearn.model_selection import ShuffleSplit\n",
    "from sklearn import preprocessing\n",
    "from sklearn import svm"
   ]
  },
  {
   "cell_type": "code",
   "execution_count": 543,
   "metadata": {},
   "outputs": [],
   "source": [
    "pca = PCA(n_components=30)\n",
    "data311P=pca.fit_transform(data311S)"
   ]
  },
  {
   "cell_type": "code",
   "execution_count": 554,
   "metadata": {},
   "outputs": [
    {
     "name": "stdout",
     "output_type": "stream",
     "text": [
      "best test R2 in test: 0.9371165112249314\n",
      "average test R2 in test: -9.419675796760135\n",
      "best test R2 in train: 0.9491028049533606\n",
      "average train R2 in test: 0.9439839034060723\n"
     ]
    }
   ],
   "source": [
    "clf = Lasso()\n",
    "scores = cross_validate(clf, data311P,zillow_data, cv=20,return_train_score=True)\n",
    "print('best test R2 in test:', sorted(scores['test_score'])[-1])\n",
    "print('average test R2 in test:', scores['test_score'].mean())\n",
    "print('best test R2 in train:', sorted(scores['train_score'])[-1])\n",
    "print('average train R2 in test:', scores['train_score'].mean())\n",
    "# print(scores)\n",
    "test_score = scores['test_score']\n",
    "train_score = scores['train_score']\n",
    "cross_validation_time = range(20)\n",
    "# plt.figure(figsize=(8,8))\n",
    "# plt.plot(cross_validation_time,test_score,label='test R2')\n",
    "# plt.plot(cross_validation_time,train_score,label='train R2')\n",
    "# plt.legend(fontsize=14)"
   ]
  },
  {
   "cell_type": "markdown",
   "metadata": {},
   "source": [
    "# Question 5\n",
    "1. Using the Zillow dataset from question 4, run PCA on the price dynamics for zip codes over the last 5 years \n",
    "    1. take only those zip codes within NYC having price defined for the last 60 months from 2013-09 till 2018-08:\n",
    "    2. normalize each zip code timeline by average price over this period\n",
    "    3. standardize those normalized prices per month and use them as features\n",
    "    4. run pca over those features\n",
    "\n",
    "2. Visualize zip codes in the 2d space of first two principal components, coloring them by borough (feel free to use borough definition from the class notebook). "
   ]
  },
  {
   "cell_type": "code",
   "execution_count": 582,
   "metadata": {},
   "outputs": [
    {
     "data": {
      "text/html": [
       "<div>\n",
       "<style scoped>\n",
       "    .dataframe tbody tr th:only-of-type {\n",
       "        vertical-align: middle;\n",
       "    }\n",
       "\n",
       "    .dataframe tbody tr th {\n",
       "        vertical-align: top;\n",
       "    }\n",
       "\n",
       "    .dataframe thead th {\n",
       "        text-align: right;\n",
       "    }\n",
       "</style>\n",
       "<table border=\"1\" class=\"dataframe\">\n",
       "  <thead>\n",
       "    <tr style=\"text-align: right;\">\n",
       "      <th></th>\n",
       "      <th>City</th>\n",
       "      <th>State</th>\n",
       "      <th>Metro</th>\n",
       "      <th>CountyName</th>\n",
       "      <th>SizeRank</th>\n",
       "      <th>2010-01</th>\n",
       "      <th>2010-02</th>\n",
       "      <th>2010-03</th>\n",
       "      <th>2010-04</th>\n",
       "      <th>2010-05</th>\n",
       "      <th>...</th>\n",
       "      <th>2017-11</th>\n",
       "      <th>2017-12</th>\n",
       "      <th>2018-01</th>\n",
       "      <th>2018-02</th>\n",
       "      <th>2018-03</th>\n",
       "      <th>2018-04</th>\n",
       "      <th>2018-05</th>\n",
       "      <th>2018-06</th>\n",
       "      <th>2018-07</th>\n",
       "      <th>2018-08</th>\n",
       "    </tr>\n",
       "    <tr>\n",
       "      <th>RegionName</th>\n",
       "      <th></th>\n",
       "      <th></th>\n",
       "      <th></th>\n",
       "      <th></th>\n",
       "      <th></th>\n",
       "      <th></th>\n",
       "      <th></th>\n",
       "      <th></th>\n",
       "      <th></th>\n",
       "      <th></th>\n",
       "      <th></th>\n",
       "      <th></th>\n",
       "      <th></th>\n",
       "      <th></th>\n",
       "      <th></th>\n",
       "      <th></th>\n",
       "      <th></th>\n",
       "      <th></th>\n",
       "      <th></th>\n",
       "      <th></th>\n",
       "      <th></th>\n",
       "    </tr>\n",
       "  </thead>\n",
       "  <tbody>\n",
       "    <tr>\n",
       "      <th>10023</th>\n",
       "      <td>New York</td>\n",
       "      <td>NY</td>\n",
       "      <td>New York, NY</td>\n",
       "      <td>New York</td>\n",
       "      <td>1</td>\n",
       "      <td>NaN</td>\n",
       "      <td>NaN</td>\n",
       "      <td>NaN</td>\n",
       "      <td>NaN</td>\n",
       "      <td>1366.621067</td>\n",
       "      <td>...</td>\n",
       "      <td>1954.992968</td>\n",
       "      <td>1983.055556</td>\n",
       "      <td>1963.986600</td>\n",
       "      <td>1702.573836</td>\n",
       "      <td>1522.948540</td>\n",
       "      <td>1568.100358</td>\n",
       "      <td>1612.378790</td>\n",
       "      <td>1569.371728</td>\n",
       "      <td>1599.538839</td>\n",
       "      <td>1619.794484</td>\n",
       "    </tr>\n",
       "    <tr>\n",
       "      <th>60614</th>\n",
       "      <td>Chicago</td>\n",
       "      <td>IL</td>\n",
       "      <td>Chicago, IL</td>\n",
       "      <td>Cook</td>\n",
       "      <td>2</td>\n",
       "      <td>347.391304</td>\n",
       "      <td>333.975410</td>\n",
       "      <td>332.666667</td>\n",
       "      <td>324.490763</td>\n",
       "      <td>325.832510</td>\n",
       "      <td>...</td>\n",
       "      <td>514.255544</td>\n",
       "      <td>522.193211</td>\n",
       "      <td>519.321330</td>\n",
       "      <td>520.408163</td>\n",
       "      <td>476.592732</td>\n",
       "      <td>463.928571</td>\n",
       "      <td>470.769231</td>\n",
       "      <td>461.960986</td>\n",
       "      <td>455.861397</td>\n",
       "      <td>436.111111</td>\n",
       "    </tr>\n",
       "    <tr>\n",
       "      <th>79936</th>\n",
       "      <td>El Paso</td>\n",
       "      <td>TX</td>\n",
       "      <td>El Paso, TX</td>\n",
       "      <td>El Paso</td>\n",
       "      <td>3</td>\n",
       "      <td>88.688320</td>\n",
       "      <td>88.159032</td>\n",
       "      <td>87.940589</td>\n",
       "      <td>87.929656</td>\n",
       "      <td>87.368706</td>\n",
       "      <td>...</td>\n",
       "      <td>88.419016</td>\n",
       "      <td>88.540363</td>\n",
       "      <td>88.755279</td>\n",
       "      <td>88.455330</td>\n",
       "      <td>88.367347</td>\n",
       "      <td>89.118199</td>\n",
       "      <td>90.128755</td>\n",
       "      <td>90.316333</td>\n",
       "      <td>90.726125</td>\n",
       "      <td>91.668726</td>\n",
       "    </tr>\n",
       "    <tr>\n",
       "      <th>10002</th>\n",
       "      <td>New York</td>\n",
       "      <td>NY</td>\n",
       "      <td>New York, NY</td>\n",
       "      <td>New York</td>\n",
       "      <td>4</td>\n",
       "      <td>NaN</td>\n",
       "      <td>NaN</td>\n",
       "      <td>NaN</td>\n",
       "      <td>NaN</td>\n",
       "      <td>NaN</td>\n",
       "      <td>...</td>\n",
       "      <td>2041.247701</td>\n",
       "      <td>2043.165468</td>\n",
       "      <td>2063.785322</td>\n",
       "      <td>2012.302285</td>\n",
       "      <td>2015.369804</td>\n",
       "      <td>2026.353276</td>\n",
       "      <td>2022.274326</td>\n",
       "      <td>2013.831259</td>\n",
       "      <td>1997.942387</td>\n",
       "      <td>2030.259366</td>\n",
       "    </tr>\n",
       "    <tr>\n",
       "      <th>926</th>\n",
       "      <td>San Juan</td>\n",
       "      <td>TX</td>\n",
       "      <td>Brownsville, TX</td>\n",
       "      <td>Cameron</td>\n",
       "      <td>5</td>\n",
       "      <td>NaN</td>\n",
       "      <td>NaN</td>\n",
       "      <td>NaN</td>\n",
       "      <td>NaN</td>\n",
       "      <td>NaN</td>\n",
       "      <td>...</td>\n",
       "      <td>92.968750</td>\n",
       "      <td>92.954963</td>\n",
       "      <td>93.776641</td>\n",
       "      <td>92.968750</td>\n",
       "      <td>95.090118</td>\n",
       "      <td>103.846154</td>\n",
       "      <td>100.411523</td>\n",
       "      <td>108.447489</td>\n",
       "      <td>102.270729</td>\n",
       "      <td>102.270729</td>\n",
       "    </tr>\n",
       "  </tbody>\n",
       "</table>\n",
       "<p>5 rows × 109 columns</p>\n",
       "</div>"
      ],
      "text/plain": [
       "                City State            Metro CountyName  SizeRank     2010-01  \\\n",
       "RegionName                                                                     \n",
       "10023       New York    NY     New York, NY   New York         1         NaN   \n",
       "60614        Chicago    IL      Chicago, IL       Cook         2  347.391304   \n",
       "79936        El Paso    TX      El Paso, TX    El Paso         3   88.688320   \n",
       "10002       New York    NY     New York, NY   New York         4         NaN   \n",
       "926         San Juan    TX  Brownsville, TX    Cameron         5         NaN   \n",
       "\n",
       "               2010-02     2010-03     2010-04      2010-05     ...       \\\n",
       "RegionName                                                      ...        \n",
       "10023              NaN         NaN         NaN  1366.621067     ...        \n",
       "60614       333.975410  332.666667  324.490763   325.832510     ...        \n",
       "79936        88.159032   87.940589   87.929656    87.368706     ...        \n",
       "10002              NaN         NaN         NaN          NaN     ...        \n",
       "926                NaN         NaN         NaN          NaN     ...        \n",
       "\n",
       "                2017-11      2017-12      2018-01      2018-02      2018-03  \\\n",
       "RegionName                                                                    \n",
       "10023       1954.992968  1983.055556  1963.986600  1702.573836  1522.948540   \n",
       "60614        514.255544   522.193211   519.321330   520.408163   476.592732   \n",
       "79936         88.419016    88.540363    88.755279    88.455330    88.367347   \n",
       "10002       2041.247701  2043.165468  2063.785322  2012.302285  2015.369804   \n",
       "926           92.968750    92.954963    93.776641    92.968750    95.090118   \n",
       "\n",
       "                2018-04      2018-05      2018-06      2018-07      2018-08  \n",
       "RegionName                                                                   \n",
       "10023       1568.100358  1612.378790  1569.371728  1599.538839  1619.794484  \n",
       "60614        463.928571   470.769231   461.960986   455.861397   436.111111  \n",
       "79936         89.118199    90.128755    90.316333    90.726125    91.668726  \n",
       "10002       2026.353276  2022.274326  2013.831259  1997.942387  2030.259366  \n",
       "926          103.846154   100.411523   108.447489   102.270729   102.270729  \n",
       "\n",
       "[5 rows x 109 columns]"
      ]
     },
     "execution_count": 582,
     "metadata": {},
     "output_type": "execute_result"
    }
   ],
   "source": [
    "zillow=pd.read_csv(\"ads_hw3_data/Zip_MedianListingPricePerSqft_AllHomes.csv\",index_col=0)\n",
    "zillow.head()"
   ]
  },
  {
   "cell_type": "code",
   "execution_count": 583,
   "metadata": {},
   "outputs": [],
   "source": [
    "zillow = zillow[zillow['City']=='New York']\n",
    "zillow = zillow.drop(columns={'City','State','Metro','CountyName'})\n",
    "\n",
    "# zillow.head()"
   ]
  },
  {
   "cell_type": "code",
   "execution_count": 584,
   "metadata": {},
   "outputs": [],
   "source": [
    "zillow = zillow.iloc[:,45:105]"
   ]
  },
  {
   "cell_type": "code",
   "execution_count": 585,
   "metadata": {},
   "outputs": [
    {
     "data": {
      "text/html": [
       "<div>\n",
       "<style scoped>\n",
       "    .dataframe tbody tr th:only-of-type {\n",
       "        vertical-align: middle;\n",
       "    }\n",
       "\n",
       "    .dataframe tbody tr th {\n",
       "        vertical-align: top;\n",
       "    }\n",
       "\n",
       "    .dataframe thead th {\n",
       "        text-align: right;\n",
       "    }\n",
       "</style>\n",
       "<table border=\"1\" class=\"dataframe\">\n",
       "  <thead>\n",
       "    <tr style=\"text-align: right;\">\n",
       "      <th></th>\n",
       "      <th>2013-09</th>\n",
       "      <th>2013-10</th>\n",
       "      <th>2013-11</th>\n",
       "      <th>2013-12</th>\n",
       "      <th>2014-01</th>\n",
       "      <th>2014-02</th>\n",
       "      <th>2014-03</th>\n",
       "      <th>2014-04</th>\n",
       "      <th>2014-05</th>\n",
       "      <th>2014-06</th>\n",
       "      <th>...</th>\n",
       "      <th>2017-11</th>\n",
       "      <th>2017-12</th>\n",
       "      <th>2018-01</th>\n",
       "      <th>2018-02</th>\n",
       "      <th>2018-03</th>\n",
       "      <th>2018-04</th>\n",
       "      <th>2018-05</th>\n",
       "      <th>2018-06</th>\n",
       "      <th>2018-07</th>\n",
       "      <th>2018-08</th>\n",
       "    </tr>\n",
       "    <tr>\n",
       "      <th>RegionName</th>\n",
       "      <th></th>\n",
       "      <th></th>\n",
       "      <th></th>\n",
       "      <th></th>\n",
       "      <th></th>\n",
       "      <th></th>\n",
       "      <th></th>\n",
       "      <th></th>\n",
       "      <th></th>\n",
       "      <th></th>\n",
       "      <th></th>\n",
       "      <th></th>\n",
       "      <th></th>\n",
       "      <th></th>\n",
       "      <th></th>\n",
       "      <th></th>\n",
       "      <th></th>\n",
       "      <th></th>\n",
       "      <th></th>\n",
       "      <th></th>\n",
       "      <th></th>\n",
       "    </tr>\n",
       "  </thead>\n",
       "  <tbody>\n",
       "    <tr>\n",
       "      <th>10023</th>\n",
       "      <td>1671.539961</td>\n",
       "      <td>1692.579505</td>\n",
       "      <td>1671.539961</td>\n",
       "      <td>1626.483292</td>\n",
       "      <td>1687.241963</td>\n",
       "      <td>1679.678610</td>\n",
       "      <td>1647.985348</td>\n",
       "      <td>1602.992987</td>\n",
       "      <td>1693.398425</td>\n",
       "      <td>1679.748823</td>\n",
       "      <td>...</td>\n",
       "      <td>1954.992968</td>\n",
       "      <td>1983.055556</td>\n",
       "      <td>1963.986600</td>\n",
       "      <td>1702.573836</td>\n",
       "      <td>1522.948540</td>\n",
       "      <td>1568.100358</td>\n",
       "      <td>1612.378790</td>\n",
       "      <td>1569.371728</td>\n",
       "      <td>1599.538839</td>\n",
       "      <td>1619.794484</td>\n",
       "    </tr>\n",
       "    <tr>\n",
       "      <th>10016</th>\n",
       "      <td>1208.647968</td>\n",
       "      <td>1240.693215</td>\n",
       "      <td>1338.257652</td>\n",
       "      <td>1288.714051</td>\n",
       "      <td>1341.698842</td>\n",
       "      <td>1287.390942</td>\n",
       "      <td>1290.475408</td>\n",
       "      <td>1361.205586</td>\n",
       "      <td>1357.735068</td>\n",
       "      <td>1343.503937</td>\n",
       "      <td>...</td>\n",
       "      <td>1546.285641</td>\n",
       "      <td>1557.564684</td>\n",
       "      <td>1538.800705</td>\n",
       "      <td>1345.275276</td>\n",
       "      <td>1327.586207</td>\n",
       "      <td>1389.792068</td>\n",
       "      <td>1433.631891</td>\n",
       "      <td>1433.902938</td>\n",
       "      <td>1444.833625</td>\n",
       "      <td>1456.997085</td>\n",
       "    </tr>\n",
       "    <tr>\n",
       "      <th>11235</th>\n",
       "      <td>442.216981</td>\n",
       "      <td>442.743009</td>\n",
       "      <td>437.367117</td>\n",
       "      <td>436.607143</td>\n",
       "      <td>436.303571</td>\n",
       "      <td>435.454545</td>\n",
       "      <td>430.821918</td>\n",
       "      <td>435.342870</td>\n",
       "      <td>434.631891</td>\n",
       "      <td>440.149254</td>\n",
       "      <td>...</td>\n",
       "      <td>589.335828</td>\n",
       "      <td>581.314948</td>\n",
       "      <td>578.947368</td>\n",
       "      <td>566.937120</td>\n",
       "      <td>561.356996</td>\n",
       "      <td>582.314205</td>\n",
       "      <td>584.002443</td>\n",
       "      <td>576.515881</td>\n",
       "      <td>577.477570</td>\n",
       "      <td>575.000000</td>\n",
       "    </tr>\n",
       "    <tr>\n",
       "      <th>10029</th>\n",
       "      <td>925.000000</td>\n",
       "      <td>946.875000</td>\n",
       "      <td>857.605178</td>\n",
       "      <td>825.504587</td>\n",
       "      <td>857.682409</td>\n",
       "      <td>877.767897</td>\n",
       "      <td>909.326186</td>\n",
       "      <td>1000.175070</td>\n",
       "      <td>940.169668</td>\n",
       "      <td>911.674923</td>\n",
       "      <td>...</td>\n",
       "      <td>1288.980433</td>\n",
       "      <td>1288.980433</td>\n",
       "      <td>1282.051282</td>\n",
       "      <td>1265.954845</td>\n",
       "      <td>1235.999167</td>\n",
       "      <td>1255.656109</td>\n",
       "      <td>1266.935681</td>\n",
       "      <td>1269.503546</td>\n",
       "      <td>1251.968504</td>\n",
       "      <td>1241.534989</td>\n",
       "    </tr>\n",
       "    <tr>\n",
       "      <th>10462</th>\n",
       "      <td>149.961919</td>\n",
       "      <td>149.020375</td>\n",
       "      <td>152.517483</td>\n",
       "      <td>153.395836</td>\n",
       "      <td>156.815440</td>\n",
       "      <td>156.001180</td>\n",
       "      <td>156.626733</td>\n",
       "      <td>160.087419</td>\n",
       "      <td>157.142857</td>\n",
       "      <td>157.142857</td>\n",
       "      <td>...</td>\n",
       "      <td>196.202532</td>\n",
       "      <td>200.000000</td>\n",
       "      <td>198.666667</td>\n",
       "      <td>217.787837</td>\n",
       "      <td>220.000000</td>\n",
       "      <td>223.846154</td>\n",
       "      <td>234.939759</td>\n",
       "      <td>228.492107</td>\n",
       "      <td>226.363636</td>\n",
       "      <td>218.090909</td>\n",
       "    </tr>\n",
       "  </tbody>\n",
       "</table>\n",
       "<p>5 rows × 60 columns</p>\n",
       "</div>"
      ],
      "text/plain": [
       "                2013-09      2013-10      2013-11      2013-12      2014-01  \\\n",
       "RegionName                                                                    \n",
       "10023       1671.539961  1692.579505  1671.539961  1626.483292  1687.241963   \n",
       "10016       1208.647968  1240.693215  1338.257652  1288.714051  1341.698842   \n",
       "11235        442.216981   442.743009   437.367117   436.607143   436.303571   \n",
       "10029        925.000000   946.875000   857.605178   825.504587   857.682409   \n",
       "10462        149.961919   149.020375   152.517483   153.395836   156.815440   \n",
       "\n",
       "                2014-02      2014-03      2014-04      2014-05      2014-06  \\\n",
       "RegionName                                                                    \n",
       "10023       1679.678610  1647.985348  1602.992987  1693.398425  1679.748823   \n",
       "10016       1287.390942  1290.475408  1361.205586  1357.735068  1343.503937   \n",
       "11235        435.454545   430.821918   435.342870   434.631891   440.149254   \n",
       "10029        877.767897   909.326186  1000.175070   940.169668   911.674923   \n",
       "10462        156.001180   156.626733   160.087419   157.142857   157.142857   \n",
       "\n",
       "               ...           2017-11      2017-12      2018-01      2018-02  \\\n",
       "RegionName     ...                                                            \n",
       "10023          ...       1954.992968  1983.055556  1963.986600  1702.573836   \n",
       "10016          ...       1546.285641  1557.564684  1538.800705  1345.275276   \n",
       "11235          ...        589.335828   581.314948   578.947368   566.937120   \n",
       "10029          ...       1288.980433  1288.980433  1282.051282  1265.954845   \n",
       "10462          ...        196.202532   200.000000   198.666667   217.787837   \n",
       "\n",
       "                2018-03      2018-04      2018-05      2018-06      2018-07  \\\n",
       "RegionName                                                                    \n",
       "10023       1522.948540  1568.100358  1612.378790  1569.371728  1599.538839   \n",
       "10016       1327.586207  1389.792068  1433.631891  1433.902938  1444.833625   \n",
       "11235        561.356996   582.314205   584.002443   576.515881   577.477570   \n",
       "10029       1235.999167  1255.656109  1266.935681  1269.503546  1251.968504   \n",
       "10462        220.000000   223.846154   234.939759   228.492107   226.363636   \n",
       "\n",
       "                2018-08  \n",
       "RegionName               \n",
       "10023       1619.794484  \n",
       "10016       1456.997085  \n",
       "11235        575.000000  \n",
       "10029       1241.534989  \n",
       "10462        218.090909  \n",
       "\n",
       "[5 rows x 60 columns]"
      ]
     },
     "execution_count": 585,
     "metadata": {},
     "output_type": "execute_result"
    }
   ],
   "source": [
    "zillow.dropna(axis = 0, how = 'any',inplace=True)\n",
    "zillow.head()"
   ]
  },
  {
   "cell_type": "markdown",
   "metadata": {},
   "source": [
    "## Normalize"
   ]
  },
  {
   "cell_type": "code",
   "execution_count": 593,
   "metadata": {},
   "outputs": [
    {
     "data": {
      "text/plain": [
       "(62, 60)"
      ]
     },
     "execution_count": 593,
     "metadata": {},
     "output_type": "execute_result"
    }
   ],
   "source": [
    "zillow_data = np.array(zillow)\n",
    "zillow_data.shape"
   ]
  },
  {
   "cell_type": "code",
   "execution_count": null,
   "metadata": {},
   "outputs": [],
   "source": [
    "zillow_data = zillow_data.reshape(60,62)"
   ]
  },
  {
   "cell_type": "code",
   "execution_count": 594,
   "metadata": {},
   "outputs": [],
   "source": [
    "zillow_norm = preprocessing.scale(zillow_data)"
   ]
  },
  {
   "cell_type": "markdown",
   "metadata": {},
   "source": [
    "## Standardize"
   ]
  },
  {
   "cell_type": "code",
   "execution_count": 595,
   "metadata": {},
   "outputs": [],
   "source": [
    "zillow_std = zillow_norm.reshape(62,60)\n",
    "scaler = preprocessing.StandardScaler()\n",
    "zillow_std = scaler.fit_transform(zillow_std)"
   ]
  },
  {
   "cell_type": "code",
   "execution_count": 596,
   "metadata": {},
   "outputs": [],
   "source": [
    "pca = PCA(n_components=10)\n",
    "zillow_p=pca.fit_transform(zillow_std)"
   ]
  },
  {
   "cell_type": "code",
   "execution_count": 597,
   "metadata": {},
   "outputs": [
    {
     "data": {
      "text/plain": [
       "(62, 10)"
      ]
     },
     "execution_count": 597,
     "metadata": {},
     "output_type": "execute_result"
    }
   ],
   "source": [
    "zillow_p.shape"
   ]
  },
  {
   "cell_type": "code",
   "execution_count": 598,
   "metadata": {},
   "outputs": [],
   "source": [
    "p = pca.fit_transform(zillow_std) "
   ]
  },
  {
   "cell_type": "code",
   "execution_count": 599,
   "metadata": {},
   "outputs": [
    {
     "data": {
      "text/plain": [
       "(62, 10)"
      ]
     },
     "execution_count": 599,
     "metadata": {},
     "output_type": "execute_result"
    }
   ],
   "source": [
    "p.shape"
   ]
  },
  {
   "cell_type": "code",
   "execution_count": 628,
   "metadata": {},
   "outputs": [
    {
     "data": {
      "text/plain": [
       "array([1, 1, 3, 0, 5, 3, 3, 3, 3, 1, 2, 3, 3, 4, 3, 3, 3, 3, 3, 1, 5, 3,\n",
       "       1, 4, 3, 2, 1, 2, 5, 5, 4, 3, 3, 4, 3, 3, 2, 2, 3, 2, 4, 5, 4, 3,\n",
       "       4, 4, 2, 4, 4, 4, 4, 2, 2, 2, 0, 4, 1, 4, 1, 2, 1, 1])"
      ]
     },
     "execution_count": 628,
     "metadata": {},
     "output_type": "execute_result"
    }
   ],
   "source": [
    "Z=np.array(zillow.index)\n",
    "manhattanInd=(Z>10000)&(Z<10300)&(Z!=10026)&(Z!=10027)&(Z!=10029)&(Z!=10030)&(Z!=10037)&(Z!=10038) #Manhattan\n",
    "statenInd=(Z>=10300)&(Z<10400) #Staten Island\n",
    "brooklynInd=(Z>=11000)&(Z<11300) #Brooklyn\n",
    "queensInd=(Z>=11300)&(Z<11500) #Queens\n",
    "bronxInd=(Z>=10400)&(Z<10500) #Bronx\n",
    "D=Z*0 \n",
    "D[manhattanInd]=1\n",
    "D[statenInd]=2\n",
    "D[brooklynInd]=3\n",
    "D[queensInd]=4\n",
    "D[bronxInd]=5\n",
    "D"
   ]
  },
  {
   "cell_type": "code",
   "execution_count": 638,
   "metadata": {},
   "outputs": [],
   "source": [
    "area = pd.DataFrame(data=D[:],\n",
    "                  index=zillow.index)  "
   ]
  },
  {
   "cell_type": "code",
   "execution_count": 664,
   "metadata": {},
   "outputs": [
    {
     "data": {
      "text/html": [
       "<div>\n",
       "<style scoped>\n",
       "    .dataframe tbody tr th:only-of-type {\n",
       "        vertical-align: middle;\n",
       "    }\n",
       "\n",
       "    .dataframe tbody tr th {\n",
       "        vertical-align: top;\n",
       "    }\n",
       "\n",
       "    .dataframe thead th {\n",
       "        text-align: right;\n",
       "    }\n",
       "</style>\n",
       "<table border=\"1\" class=\"dataframe\">\n",
       "  <thead>\n",
       "    <tr style=\"text-align: right;\">\n",
       "      <th></th>\n",
       "      <th>0</th>\n",
       "      <th>1</th>\n",
       "      <th>2</th>\n",
       "      <th>3</th>\n",
       "      <th>4</th>\n",
       "      <th>5</th>\n",
       "      <th>6</th>\n",
       "      <th>7</th>\n",
       "      <th>8</th>\n",
       "      <th>9</th>\n",
       "      <th>area</th>\n",
       "    </tr>\n",
       "    <tr>\n",
       "      <th>RegionName</th>\n",
       "      <th></th>\n",
       "      <th></th>\n",
       "      <th></th>\n",
       "      <th></th>\n",
       "      <th></th>\n",
       "      <th></th>\n",
       "      <th></th>\n",
       "      <th></th>\n",
       "      <th></th>\n",
       "      <th></th>\n",
       "      <th></th>\n",
       "    </tr>\n",
       "  </thead>\n",
       "  <tbody>\n",
       "    <tr>\n",
       "      <th>10023</th>\n",
       "      <td>16.287808</td>\n",
       "      <td>0.564039</td>\n",
       "      <td>1.193634</td>\n",
       "      <td>-0.597080</td>\n",
       "      <td>-0.140679</td>\n",
       "      <td>-0.255759</td>\n",
       "      <td>-0.019932</td>\n",
       "      <td>-0.032155</td>\n",
       "      <td>-0.310029</td>\n",
       "      <td>0.080937</td>\n",
       "      <td>1</td>\n",
       "    </tr>\n",
       "    <tr>\n",
       "      <th>10016</th>\n",
       "      <td>11.294560</td>\n",
       "      <td>0.716689</td>\n",
       "      <td>0.425359</td>\n",
       "      <td>0.376413</td>\n",
       "      <td>-0.447002</td>\n",
       "      <td>0.035800</td>\n",
       "      <td>-0.082825</td>\n",
       "      <td>0.051868</td>\n",
       "      <td>0.347246</td>\n",
       "      <td>0.070621</td>\n",
       "      <td>1</td>\n",
       "    </tr>\n",
       "    <tr>\n",
       "      <th>11235</th>\n",
       "      <td>-2.691550</td>\n",
       "      <td>0.019967</td>\n",
       "      <td>0.109296</td>\n",
       "      <td>-0.018098</td>\n",
       "      <td>-0.079748</td>\n",
       "      <td>-0.010417</td>\n",
       "      <td>-0.062401</td>\n",
       "      <td>-0.023591</td>\n",
       "      <td>-0.031195</td>\n",
       "      <td>-0.000827</td>\n",
       "      <td>3</td>\n",
       "    </tr>\n",
       "    <tr>\n",
       "      <th>10029</th>\n",
       "      <td>5.651523</td>\n",
       "      <td>-0.558119</td>\n",
       "      <td>-0.700051</td>\n",
       "      <td>-0.367527</td>\n",
       "      <td>-0.533012</td>\n",
       "      <td>0.531297</td>\n",
       "      <td>0.178594</td>\n",
       "      <td>-0.110149</td>\n",
       "      <td>-0.162352</td>\n",
       "      <td>0.200313</td>\n",
       "      <td>0</td>\n",
       "    </tr>\n",
       "    <tr>\n",
       "      <th>10462</th>\n",
       "      <td>-7.635844</td>\n",
       "      <td>0.324030</td>\n",
       "      <td>0.142163</td>\n",
       "      <td>0.090509</td>\n",
       "      <td>-0.019383</td>\n",
       "      <td>0.016353</td>\n",
       "      <td>0.044658</td>\n",
       "      <td>0.008323</td>\n",
       "      <td>-0.019283</td>\n",
       "      <td>-0.016439</td>\n",
       "      <td>5</td>\n",
       "    </tr>\n",
       "  </tbody>\n",
       "</table>\n",
       "</div>"
      ],
      "text/plain": [
       "                    0         1         2         3         4         5  \\\n",
       "RegionName                                                                \n",
       "10023       16.287808  0.564039  1.193634 -0.597080 -0.140679 -0.255759   \n",
       "10016       11.294560  0.716689  0.425359  0.376413 -0.447002  0.035800   \n",
       "11235       -2.691550  0.019967  0.109296 -0.018098 -0.079748 -0.010417   \n",
       "10029        5.651523 -0.558119 -0.700051 -0.367527 -0.533012  0.531297   \n",
       "10462       -7.635844  0.324030  0.142163  0.090509 -0.019383  0.016353   \n",
       "\n",
       "                   6         7         8         9  area  \n",
       "RegionName                                                \n",
       "10023      -0.019932 -0.032155 -0.310029  0.080937     1  \n",
       "10016      -0.082825  0.051868  0.347246  0.070621     1  \n",
       "11235      -0.062401 -0.023591 -0.031195 -0.000827     3  \n",
       "10029       0.178594 -0.110149 -0.162352  0.200313     0  \n",
       "10462       0.044658  0.008323 -0.019283 -0.016439     5  "
      ]
     },
     "execution_count": 664,
     "metadata": {},
     "output_type": "execute_result"
    }
   ],
   "source": [
    "zillow_new = pd.DataFrame(data=p[:,:],\n",
    "                  index=zillow.index,  \n",
    "                  columns=range(10))  \n",
    "zillow_new = zillow_new.merge(area,left_on='RegionName',right_on='RegionName')\n",
    "zillow_new.rename(columns={'0_y':'area','0_x':'0'},inplace=True)\n",
    "zillow_new.head()"
   ]
  },
  {
   "cell_type": "code",
   "execution_count": 665,
   "metadata": {},
   "outputs": [],
   "source": [
    "zillow_new = zillow_new.values"
   ]
  },
  {
   "cell_type": "code",
   "execution_count": 666,
   "metadata": {},
   "outputs": [
    {
     "data": {
      "text/plain": [
       "<matplotlib.legend.Legend at 0x1c1e6a7588>"
      ]
     },
     "execution_count": 666,
     "metadata": {},
     "output_type": "execute_result"
    },
    {
     "data": {
      "image/png": "[encoded data removed]",
      "text/plain": [
       "<Figure size 1080x1080 with 1 Axes>"
      ]
     },
     "metadata": {},
     "output_type": "display_data"
    }
   ],
   "source": [
    "#2-d plot\n",
    "\n",
    "colors=('gray','red','green','blue','yellow','brown')\n",
    "fig = plt.figure(figsize=(15,15))\n",
    "for d in range(1,6):\n",
    "    plt.plot(np.array(zillow_new[D==d,0]), np.array(zillow_new[D==d,1]),\n",
    "        'o', color=colors[d], alpha=0.8, label=d)\n",
    "#plt.xlim((-0.2,0.2))   \n",
    "#plt.ylim((-0.2,0.2)) \n",
    "plt.legend(['Manhattan','Staten Isl','Brooklyn','Queens','Bronx'],bbox_to_anchor=(1, 0.5),fontsize=15)"
   ]
  },
  {
   "cell_type": "code",
   "execution_count": null,
   "metadata": {},
   "outputs": [],
   "source": []
  }
 ],
 "metadata": {
  "anaconda-cloud": {},
  "kernelspec": {
   "display_name": "Python 3",
   "language": "python",
   "name": "python3"
  },
  "language_info": {
   "codemirror_mode": {
    "name": "ipython",
    "version": 3
   },
   "file_extension": ".py",
   "mimetype": "text/x-python",
   "name": "python",
   "nbconvert_exporter": "python",
   "pygments_lexer": "ipython3",
   "version": "3.6.5"
  }
 },
 "nbformat": 4,
 "nbformat_minor": 2
}
